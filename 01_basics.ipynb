{
 "cells": [
  {
   "cell_type": "markdown",
   "metadata": {},
   "source": [
    "# Basics"
   ]
  },
  {
   "cell_type": "markdown",
   "metadata": {},
   "source": [
    "## Packages\n",
    "\n",
    "Goのプログラムは、パッケージ( package )で構成されます。\n",
    "\n",
    "プログラムは main パッケージから開始されます。\n",
    "\n",
    "このプログラムでは `\"fmt\"` と `\"math/rand\"` パッケージをインポート( *import* )しています。\n",
    "\n",
    "規約で、パッケージ名はインポートパスの最後の要素と同じ名前になります。 例えば、インポートパスが `\"math/rand\"` のパッケージは、 `package rand` ステートメントで始まるファイル群で構成します。\n",
    "\n",
    "(もしURLを含むインポートパスが \"golang.org/x/net/websocket\" だった場合は、 `package websocket` になります)"
   ]
  },
  {
   "cell_type": "code",
   "execution_count": 1,
   "metadata": {
    "ExecuteTime": {
     "end_time": "2018-02-17T15:51:50Z",
     "start_time": "2018-02-17T15:51:50.907Z"
    }
   },
   "outputs": [],
   "source": [
    "import (\n",
    "    \"fmt\"\n",
    "    \"math/rand\"\n",
    ")"
   ]
  },
  {
   "cell_type": "code",
   "execution_count": 2,
   "metadata": {
    "ExecuteTime": {
     "end_time": "2018-02-17T15:51:50Z",
     "start_time": "2018-02-17T15:51:50.910Z"
    }
   },
   "outputs": [
    {
     "name": "stdout",
     "output_type": "stream",
     "text": [
      "My favorite number is 1\n"
     ]
    },
    {
     "data": {
      "text/plain": [
       "24 <nil>"
      ]
     },
     "execution_count": 2,
     "metadata": {},
     "output_type": "execute_result"
    }
   ],
   "source": [
    "fmt.Println(\"My favorite number is\", rand.Intn(10))"
   ]
  },
  {
   "cell_type": "markdown",
   "metadata": {},
   "source": [
    "## Imports\n",
    "\n",
    "このコードでは、括弧でパッケージのインポートをグループ化し、factoredインポートステートメント( *factored import statement* )としています。\n",
    "\n",
    "もちろん、複数のインポートステートメントで書くこともできます:\n",
    "\n",
    "```go\n",
    "import \"fmt\"\n",
    "import \"math\"\n",
    "```\n",
    "\n",
    "ですが、先に示したfactoredインポートステートメントの方がより良いスタイルです。"
   ]
  },
  {
   "cell_type": "code",
   "execution_count": 3,
   "metadata": {
    "ExecuteTime": {
     "end_time": "2018-02-17T15:51:50Z",
     "start_time": "2018-02-17T15:51:50.913Z"
    }
   },
   "outputs": [],
   "source": [
    "import (\n",
    "    \"fmt\"\n",
    "    \"math\"\n",
    ")"
   ]
  },
  {
   "cell_type": "code",
   "execution_count": 4,
   "metadata": {
    "ExecuteTime": {
     "end_time": "2018-02-17T15:51:50Z",
     "start_time": "2018-02-17T15:51:50.915Z"
    }
   },
   "outputs": [
    {
     "name": "stdout",
     "output_type": "stream",
     "text": [
      "Now you have %g problems. 2.6457513110645907\n"
     ]
    },
    {
     "data": {
      "text/plain": [
       "45 <nil>"
      ]
     },
     "execution_count": 4,
     "metadata": {},
     "output_type": "execute_result"
    }
   ],
   "source": [
    "fmt.Println(\"Now you have %g problems.\", math.Sqrt(7))"
   ]
  },
  {
   "cell_type": "markdown",
   "metadata": {},
   "source": [
    "## Exported names\n",
    "\n",
    "Goでは、最初の文字が大文字で始まる名前は、外部のパッケージから参照できるエクスポート（公開）された名前( *exported name* )です。 例えば、 `Pi` は `math` パッケージでエクスポートされています。\n",
    "\n",
    "小文字ではじまる `pi` や `hoge` などはエクスポートされていない名前です。\n",
    "\n",
    "パッケージをインポートすると、そのパッケージがエクスポートしている名前を参照することができます。 エクスポートされていない名前(小文字ではじまる名前)は、外部のパッケージからアクセスすることはできません。\n",
    "\n",
    "コードを実行し、エラーを確認してみましょう。\n",
    "\n",
    "エラーを修正するために、 `math.pi` を `math.Pi` に書き換え、もう一度実行してみてください。"
   ]
  },
  {
   "cell_type": "code",
   "execution_count": 5,
   "metadata": {
    "ExecuteTime": {
     "end_time": "2018-02-17T15:51:50Z",
     "start_time": "2018-02-17T15:51:50.917Z"
    }
   },
   "outputs": [],
   "source": [
    "import (\n",
    "    \"fmt\"\n",
    "    \"math\"\n",
    ")"
   ]
  },
  {
   "cell_type": "code",
   "execution_count": 6,
   "metadata": {
    "ExecuteTime": {
     "end_time": "2018-02-17T15:51:50Z",
     "start_time": "2018-02-17T15:51:50.919Z"
    }
   },
   "outputs": [
    {
     "ename": "ERROR",
     "evalue": "repl.go:1:13: package math \"math\" has no symbol pi",
     "output_type": "error",
     "traceback": [
      "repl.go:1:13: package math \"math\" has no symbol pi"
     ]
    }
   ],
   "source": [
    "fmt.Println(math.pi)"
   ]
  },
  {
   "cell_type": "code",
   "execution_count": 7,
   "metadata": {
    "ExecuteTime": {
     "end_time": "2018-02-17T15:51:50Z",
     "start_time": "2018-02-17T15:51:50.921Z"
    }
   },
   "outputs": [
    {
     "name": "stdout",
     "output_type": "stream",
     "text": [
      "3.141592653589793\n"
     ]
    },
    {
     "data": {
      "text/plain": [
       "18 <nil>"
      ]
     },
     "execution_count": 7,
     "metadata": {},
     "output_type": "execute_result"
    }
   ],
   "source": [
    "fmt.Println(math.Pi)"
   ]
  },
  {
   "cell_type": "markdown",
   "metadata": {},
   "source": [
    "## Functions\n",
    "\n",
    "関数は、0個以上の引数を取ることができます。\n",
    "\n",
    "この例では、 `add` 関数は、 `int` 型の２つのパラメータを取ります。\n",
    "\n",
    "変数名の **後ろ** に型名を書くことに注意してください。\n",
    "\n",
    "(型をなぜこのように宣言するのか、についての詳細な情報は、 [記事「Go's declaration syntax](https://blog.golang.org/gos-declaration-syntax)」 を参照してください。)"
   ]
  },
  {
   "cell_type": "code",
   "execution_count": 8,
   "metadata": {
    "ExecuteTime": {
     "end_time": "2018-02-17T15:51:50Z",
     "start_time": "2018-02-17T15:51:50.924Z"
    }
   },
   "outputs": [],
   "source": [
    "import \"fmt\""
   ]
  },
  {
   "cell_type": "code",
   "execution_count": 9,
   "metadata": {
    "ExecuteTime": {
     "end_time": "2018-02-17T15:51:50Z",
     "start_time": "2018-02-17T15:51:50.926Z"
    }
   },
   "outputs": [],
   "source": [
    "func add(x int, y int) int {\n",
    "    return x + y\n",
    "}"
   ]
  },
  {
   "cell_type": "code",
   "execution_count": 10,
   "metadata": {
    "ExecuteTime": {
     "end_time": "2018-02-17T15:51:50Z",
     "start_time": "2018-02-17T15:51:50.928Z"
    }
   },
   "outputs": [
    {
     "name": "stdout",
     "output_type": "stream",
     "text": [
      "55\n"
     ]
    },
    {
     "data": {
      "text/plain": [
       "3 <nil>"
      ]
     },
     "execution_count": 10,
     "metadata": {},
     "output_type": "execute_result"
    }
   ],
   "source": [
    "fmt.Println(add(42, 13))"
   ]
  },
  {
   "cell_type": "markdown",
   "metadata": {},
   "source": [
    "## Functions continued\n",
    "\n",
    "関数の2つ以上の引数が同じ型である場合には、最後の型を残して記述できます。\n",
    "\n",
    "この例では、\n",
    "```go\n",
    "x int, y int\n",
    "```\n",
    "を\n",
    "```go\n",
    "x, y int\n",
    "```\n",
    "へ省略できます。"
   ]
  },
  {
   "cell_type": "code",
   "execution_count": 11,
   "metadata": {
    "ExecuteTime": {
     "end_time": "2018-02-17T15:51:50Z",
     "start_time": "2018-02-17T15:51:50.930Z"
    }
   },
   "outputs": [],
   "source": [
    "import \"fmt\""
   ]
  },
  {
   "cell_type": "code",
   "execution_count": 12,
   "metadata": {
    "ExecuteTime": {
     "end_time": "2018-02-17T15:51:50Z",
     "start_time": "2018-02-17T15:51:50.933Z"
    }
   },
   "outputs": [],
   "source": [
    "func add(x, y int) int {\n",
    "    return x + y\n",
    "}"
   ]
  },
  {
   "cell_type": "code",
   "execution_count": 13,
   "metadata": {
    "ExecuteTime": {
     "end_time": "2018-02-17T15:51:50Z",
     "start_time": "2018-02-17T15:51:50.935Z"
    }
   },
   "outputs": [
    {
     "name": "stdout",
     "output_type": "stream",
     "text": [
      "55\n"
     ]
    },
    {
     "data": {
      "text/plain": [
       "3 <nil>"
      ]
     },
     "execution_count": 13,
     "metadata": {},
     "output_type": "execute_result"
    }
   ],
   "source": [
    "fmt.Println(add(42, 13))"
   ]
  },
  {
   "cell_type": "markdown",
   "metadata": {},
   "source": [
    "## Multiple results\n",
    "\n",
    "関数は複数の返り値を返すことができます。\n",
    "\n",
    "この `swap` 関数は2つの string を返します。とても簡単に交換できますね！"
   ]
  },
  {
   "cell_type": "code",
   "execution_count": 14,
   "metadata": {
    "ExecuteTime": {
     "end_time": "2018-02-17T15:51:51Z",
     "start_time": "2018-02-17T15:51:50.937Z"
    }
   },
   "outputs": [],
   "source": [
    "import \"fmt\""
   ]
  },
  {
   "cell_type": "code",
   "execution_count": 15,
   "metadata": {
    "ExecuteTime": {
     "end_time": "2018-02-17T15:51:51Z",
     "start_time": "2018-02-17T15:51:50.938Z"
    }
   },
   "outputs": [],
   "source": [
    "func swap(x, y string) (string, string) {\n",
    "    return y, x\n",
    "}"
   ]
  },
  {
   "cell_type": "code",
   "execution_count": 16,
   "metadata": {
    "ExecuteTime": {
     "end_time": "2018-02-17T15:51:51Z",
     "start_time": "2018-02-17T15:51:50.942Z"
    }
   },
   "outputs": [
    {
     "name": "stdout",
     "output_type": "stream",
     "text": [
      "world hello\n"
     ]
    },
    {
     "data": {
      "text/plain": [
       "12 <nil>"
      ]
     },
     "execution_count": 16,
     "metadata": {},
     "output_type": "execute_result"
    }
   ],
   "source": [
    "a, b := swap(\"hello\", \"world\")\n",
    "fmt.Println(a, b)"
   ]
  },
  {
   "cell_type": "markdown",
   "metadata": {},
   "source": [
    "## Named return values\n",
    "\n",
    "Goでの戻り値となる変数に名前をつける ( *named return value* ) ことができます。戻り値に名前をつけると、関数の最初で定義した変数名として扱われます。\n",
    "\n",
    "この戻り値の名前は、戻り値の意味を示す名前とすることで、関数のドキュメントとして表現するようにしましょう。\n",
    "\n",
    "名前をつけた戻り値の変数を使うと、 `return` ステートメントに何も書かずに戻すことができます。これを \"named\" return と呼びます。\n",
    "\n",
    "例のコードのように、named returnステートメントは、短い関数でのみ利用すべきです。永い関数で使うと読みやすさ (readability) に悪影響があります。"
   ]
  },
  {
   "cell_type": "code",
   "execution_count": 17,
   "metadata": {
    "ExecuteTime": {
     "end_time": "2018-02-17T15:51:51Z",
     "start_time": "2018-02-17T15:51:50.945Z"
    }
   },
   "outputs": [],
   "source": [
    "import \"fmt\""
   ]
  },
  {
   "cell_type": "code",
   "execution_count": 18,
   "metadata": {
    "ExecuteTime": {
     "end_time": "2018-02-17T15:51:51Z",
     "start_time": "2018-02-17T15:51:50.947Z"
    }
   },
   "outputs": [],
   "source": [
    "func split(sum int) (x, y int) {\n",
    "    x = sum * 4 / 9\n",
    "    y = sum - x\n",
    "    return\n",
    "}"
   ]
  },
  {
   "cell_type": "code",
   "execution_count": 19,
   "metadata": {
    "ExecuteTime": {
     "end_time": "2018-02-17T15:51:51Z",
     "start_time": "2018-02-17T15:51:50.949Z"
    }
   },
   "outputs": [
    {
     "name": "stdout",
     "output_type": "stream",
     "text": [
      "0\n"
     ]
    },
    {
     "data": {
      "text/plain": [
       "2 <nil>"
      ]
     },
     "execution_count": 19,
     "metadata": {},
     "output_type": "execute_result"
    }
   ],
   "source": [
    "fmt.Println(split(17))"
   ]
  },
  {
   "cell_type": "markdown",
   "metadata": {},
   "source": [
    "## Variables\n",
    "\n",
    "`var` ステートメントは変数( *Variable* ) を宣言します。関数の引数リストと同様に、複数の変数の最後に型を書くことで、変数のリストを宣言できます\n",
    "\n",
    "`var` ステートメントはパッケージ、または、関数で利用できます。例のコードを示します。"
   ]
  },
  {
   "cell_type": "code",
   "execution_count": 20,
   "metadata": {
    "ExecuteTime": {
     "end_time": "2018-02-17T15:51:51Z",
     "start_time": "2018-02-17T15:51:50.951Z"
    }
   },
   "outputs": [],
   "source": [
    "import \"fmt\""
   ]
  },
  {
   "cell_type": "code",
   "execution_count": 21,
   "metadata": {
    "ExecuteTime": {
     "end_time": "2018-02-17T15:51:51Z",
     "start_time": "2018-02-17T15:51:50.953Z"
    }
   },
   "outputs": [],
   "source": [
    "var c, python, java bool"
   ]
  },
  {
   "cell_type": "code",
   "execution_count": 22,
   "metadata": {
    "ExecuteTime": {
     "end_time": "2018-02-17T15:51:51Z",
     "start_time": "2018-02-17T15:51:50.955Z"
    }
   },
   "outputs": [
    {
     "name": "stdout",
     "output_type": "stream",
     "text": [
      "0 false false false\n"
     ]
    },
    {
     "data": {
      "text/plain": [
       "20 <nil>"
      ]
     },
     "execution_count": 22,
     "metadata": {},
     "output_type": "execute_result"
    }
   ],
   "source": [
    "var i int\n",
    "fmt.Println(i, c, python, java)"
   ]
  },
  {
   "cell_type": "markdown",
   "metadata": {},
   "source": [
    "## Variables with initializers\n",
    "\n",
    "`var` 宣言では、変数ごとに初期化子 ( *initializer* ) を与えることができます。\n",
    "\n",
    "初期化子が与えられている場合、型を省略できます。その変数は初期化子が持つ型になります。"
   ]
  },
  {
   "cell_type": "code",
   "execution_count": 23,
   "metadata": {
    "ExecuteTime": {
     "end_time": "2018-02-17T15:51:51Z",
     "start_time": "2018-02-17T15:51:50.958Z"
    }
   },
   "outputs": [],
   "source": [
    "import \"fmt\""
   ]
  },
  {
   "cell_type": "code",
   "execution_count": 24,
   "metadata": {
    "ExecuteTime": {
     "end_time": "2018-02-17T15:51:51Z",
     "start_time": "2018-02-17T15:51:50.960Z"
    }
   },
   "outputs": [],
   "source": [
    "var i, j int = 1, 2"
   ]
  },
  {
   "cell_type": "code",
   "execution_count": 25,
   "metadata": {
    "ExecuteTime": {
     "end_time": "2018-02-17T15:51:51Z",
     "start_time": "2018-02-17T15:51:50.962Z"
    }
   },
   "outputs": [],
   "source": [
    "var c, python, java = true, false, \"no!\""
   ]
  },
  {
   "cell_type": "code",
   "execution_count": 26,
   "metadata": {
    "ExecuteTime": {
     "end_time": "2018-02-17T15:51:51Z",
     "start_time": "2018-02-17T15:51:50.965Z"
    }
   },
   "outputs": [
    {
     "name": "stdout",
     "output_type": "stream",
     "text": [
      "1 2 true false no!\n"
     ]
    },
    {
     "data": {
      "text/plain": [
       "19 <nil>"
      ]
     },
     "execution_count": 26,
     "metadata": {},
     "output_type": "execute_result"
    }
   ],
   "source": [
    "fmt.Println(i, j, c, python, java)"
   ]
  },
  {
   "cell_type": "markdown",
   "metadata": {},
   "source": [
    "## Sort variable declarations\n",
    "\n",
    "関数の中では、 `var` 宣言の代わりに、短い `:=` の代入文を使い、暗黙的な型宣言ができます。\n",
    "\n",
    "なお、関数の外では、キーワードで始まる宣言 ( `var`, `func`, など)　が必要で、 `:=` での暗黙的な宣言は利用できません。"
   ]
  },
  {
   "cell_type": "code",
   "execution_count": 27,
   "metadata": {
    "ExecuteTime": {
     "end_time": "2018-02-17T15:51:51Z",
     "start_time": "2018-02-17T15:51:50.966Z"
    }
   },
   "outputs": [],
   "source": [
    "import \"fmt\""
   ]
  },
  {
   "cell_type": "code",
   "execution_count": 28,
   "metadata": {
    "ExecuteTime": {
     "end_time": "2018-02-17T15:51:51Z",
     "start_time": "2018-02-17T15:51:50.968Z"
    }
   },
   "outputs": [],
   "source": [
    "var i, j int = 1, 2"
   ]
  },
  {
   "cell_type": "code",
   "execution_count": 29,
   "metadata": {
    "ExecuteTime": {
     "end_time": "2018-02-17T15:51:51Z",
     "start_time": "2018-02-17T15:51:50.970Z"
    }
   },
   "outputs": [],
   "source": [
    "k := 3"
   ]
  },
  {
   "cell_type": "code",
   "execution_count": 30,
   "metadata": {
    "ExecuteTime": {
     "end_time": "2018-02-17T15:51:51Z",
     "start_time": "2018-02-17T15:51:50.972Z"
    }
   },
   "outputs": [],
   "source": [
    "c, python, java := true, false, \"no!\""
   ]
  },
  {
   "cell_type": "code",
   "execution_count": 31,
   "metadata": {
    "ExecuteTime": {
     "end_time": "2018-02-17T15:51:51Z",
     "start_time": "2018-02-17T15:51:50.976Z"
    }
   },
   "outputs": [
    {
     "name": "stdout",
     "output_type": "stream",
     "text": [
      "1 2 3 true false no!\n"
     ]
    },
    {
     "data": {
      "text/plain": [
       "21 <nil>"
      ]
     },
     "execution_count": 31,
     "metadata": {},
     "output_type": "execute_result"
    }
   ],
   "source": [
    "fmt.Println(i, j, k, c, python, java)"
   ]
  },
  {
   "cell_type": "markdown",
   "metadata": {},
   "source": [
    "## Basic types"
   ]
  },
  {
   "cell_type": "markdown",
   "metadata": {},
   "source": [
    "Goの基本型(組み込み型)は次のとおりです:\n",
    "\n",
    "```go\n",
    "bool\n",
    "\n",
    "string\n",
    "\n",
    "int int8 int16 int32 int64\n",
    "uint uint8 uint16 uint32 uint64 uintptr\n",
    "\n",
    "byte // uint8の別名\n",
    "\n",
    "rune // int32の別名\n",
    "       // 　Unicodeのコードポイントを表す\n",
    "float32 float64\n",
    "\n",
    "complex64 complex128\n",
    "```\n",
    "\n",
    "例では、いくつかの方の変数を示しています。また、変数宣言は、インポートステートメントと同様に、まとめて ( *factored* ) 宣言可能です。\n",
    "\n",
    "`int`, `uint`, `uintptr` 型は、32-bitのシステムでは32-bitで、64-bitのシステムでは54-bitです。サイズ、符号なし ( *unsigned* )整数の型を使うための特別な理由がない限り、整数の変数が必要な場合は `int` を使うようにしましょう。"
   ]
  },
  {
   "cell_type": "code",
   "execution_count": 32,
   "metadata": {
    "ExecuteTime": {
     "end_time": "2018-02-17T15:51:51Z",
     "start_time": "2018-02-17T15:51:50.979Z"
    }
   },
   "outputs": [],
   "source": [
    "import (\n",
    "    \"fmt\"\n",
    "    \"math/cmplx\"\n",
    ")"
   ]
  },
  {
   "cell_type": "code",
   "execution_count": 33,
   "metadata": {
    "ExecuteTime": {
     "end_time": "2018-02-17T15:51:51Z",
     "start_time": "2018-02-17T15:51:50.983Z"
    }
   },
   "outputs": [],
   "source": [
    "var (\n",
    "    ToBe bool = false\n",
    "    MaxInt uint64 = 1<<64 - 1\n",
    "    z complex128 = cmplx.Sqrt(-5 + 12i)\n",
    ")"
   ]
  },
  {
   "cell_type": "code",
   "execution_count": 34,
   "metadata": {
    "ExecuteTime": {
     "end_time": "2018-02-17T15:51:51Z",
     "start_time": "2018-02-17T15:51:50.985Z"
    }
   },
   "outputs": [
    {
     "name": "stdout",
     "output_type": "stream",
     "text": [
      "Type: bool Value: false\n",
      "Type: uint64 Value: 18446744073709551615\n",
      "Type: complex128 Value: (2+3i)\n"
     ]
    },
    {
     "data": {
      "text/plain": [
       "31 <nil>"
      ]
     },
     "execution_count": 34,
     "metadata": {},
     "output_type": "execute_result"
    }
   ],
   "source": [
    "fmt.Printf(\"Type: %T Value: %v\\n\", ToBe, ToBe)\n",
    "fmt.Printf(\"Type: %T Value: %v\\n\", MaxInt, MaxInt)\n",
    "fmt.Printf(\"Type: %T Value: %v\\n\", z, z)"
   ]
  },
  {
   "cell_type": "markdown",
   "metadata": {},
   "source": [
    "## Zero values\n",
    "\n",
    "変数に初期値を与えずに宣言すると、ゼロ値 ( *zero value* ) が与えられます。\n",
    "\n",
    "ゼロ値は型によって以下のように与えられます:\n",
    "\n",
    "* 数値型 (int, floatなど): `0`\n",
    "* bool型: `false`\n",
    "* string型: `\"\"` (空文字 ( *empty string* ))"
   ]
  },
  {
   "cell_type": "code",
   "execution_count": 35,
   "metadata": {
    "ExecuteTime": {
     "end_time": "2018-02-17T15:51:51Z",
     "start_time": "2018-02-17T15:51:50.987Z"
    }
   },
   "outputs": [],
   "source": [
    "import \"fmt\""
   ]
  },
  {
   "cell_type": "code",
   "execution_count": 36,
   "metadata": {
    "ExecuteTime": {
     "end_time": "2018-02-17T15:51:51Z",
     "start_time": "2018-02-17T15:51:50.990Z"
    }
   },
   "outputs": [],
   "source": [
    "var i int\n",
    "var f float64\n",
    "var b bool\n",
    "var s string"
   ]
  },
  {
   "cell_type": "code",
   "execution_count": 37,
   "metadata": {
    "ExecuteTime": {
     "end_time": "2018-02-17T15:51:51Z",
     "start_time": "2018-02-17T15:51:50.999Z"
    }
   },
   "outputs": [
    {
     "name": "stdout",
     "output_type": "stream",
     "text": [
      "0 0 false \"\""
     ]
    },
    {
     "data": {
      "text/plain": [
       "12 <nil>"
      ]
     },
     "execution_count": 37,
     "metadata": {},
     "output_type": "execute_result"
    }
   ],
   "source": [
    "fmt.Printf(\"%v %v %v %q\", i, f, b, s)"
   ]
  },
  {
   "cell_type": "markdown",
   "metadata": {},
   "source": [
    "## Type conversions\n",
    "\n",
    "型変換\n",
    "\n",
    "変数 `v`、型 `T` があった場合、 `T(v)` は変数 `v` を `T` 型へ変換します。\n",
    "\n",
    "いくつか変換を見てみましょう:\n",
    "\n",
    "```go\n",
    "var i int = 42\n",
    "var f float64 = float64(i)\n",
    "var u uint = uint(f)\n",
    "```\n",
    "\n",
    "よりシンプルに記述できます:\n",
    "\n",
    "```go\n",
    "i := 42\n",
    "f := float64(i)\n",
    "u := uint(f)\n",
    "```\n",
    "\n",
    "C言語と異なり。Goでの型変換は明示的な変換が必要です。例のコードで、 `float64` や `uint` の変換を削除し、何が起きるのかを確認しましょう。"
   ]
  },
  {
   "cell_type": "code",
   "execution_count": 38,
   "metadata": {
    "ExecuteTime": {
     "end_time": "2018-02-17T15:51:51Z",
     "start_time": "2018-02-17T15:51:51.002Z"
    }
   },
   "outputs": [],
   "source": [
    "import (\n",
    "    \"fmt\"\n",
    "    \"math\"\n",
    ")"
   ]
  },
  {
   "cell_type": "code",
   "execution_count": 39,
   "metadata": {
    "ExecuteTime": {
     "end_time": "2018-02-17T15:51:51Z",
     "start_time": "2018-02-17T15:51:51.006Z"
    }
   },
   "outputs": [],
   "source": [
    "var x, y int = 3, 4"
   ]
  },
  {
   "cell_type": "code",
   "execution_count": 40,
   "metadata": {
    "ExecuteTime": {
     "end_time": "2018-02-17T15:51:51Z",
     "start_time": "2018-02-17T15:51:51.008Z"
    }
   },
   "outputs": [],
   "source": [
    "var f float64 = math.Sqrt(float64(x * y + y * y))\n",
    "var z uint = uint(f)"
   ]
  },
  {
   "cell_type": "code",
   "execution_count": 41,
   "metadata": {
    "ExecuteTime": {
     "end_time": "2018-02-17T15:51:51Z",
     "start_time": "2018-02-17T15:51:51.011Z"
    }
   },
   "outputs": [
    {
     "name": "stdout",
     "output_type": "stream",
     "text": [
      "3 4 5\n"
     ]
    },
    {
     "data": {
      "text/plain": [
       "6 <nil>"
      ]
     },
     "execution_count": 41,
     "metadata": {},
     "output_type": "execute_result"
    }
   ],
   "source": [
    "fmt.Println(x, y, z)"
   ]
  },
  {
   "cell_type": "markdown",
   "metadata": {},
   "source": [
    "## Type inference\n",
    "\n",
    "明示的な方を指定せずに変数を宣言する場合 ( `:=` や `var = ` のいずれか)、変数の肩は右側の変数から型推論されます。\n",
    "\n",
    "右側の変数が型を持っている場合、左側の新しい変数は同じ型になります。\n",
    "\n",
    "```go\n",
    "var i int\n",
    "j := i // j is an int\n",
    "```\n",
    "\n",
    "右側に型を指定しない数値である場合、左側の新しい変数は右側の定数の精度に基づいて `int`, `float64`, `complex128` の型になります。\n",
    "\n",
    "```go\n",
    "i := 42 // int\n",
    "f := 3.142 // float64\n",
    "g := 0.867 + 0.5i // complex128\n",
    "```\n",
    "\n",
    "例のコードにある変数 `v` の初期値を変えて、型がどのように変化するかを見てみてください。"
   ]
  },
  {
   "cell_type": "code",
   "execution_count": 42,
   "metadata": {
    "ExecuteTime": {
     "end_time": "2018-02-17T15:51:51Z",
     "start_time": "2018-02-17T15:51:51.014Z"
    }
   },
   "outputs": [],
   "source": [
    "import \"fmt\""
   ]
  },
  {
   "cell_type": "code",
   "execution_count": 43,
   "metadata": {
    "ExecuteTime": {
     "end_time": "2018-02-17T15:51:51Z",
     "start_time": "2018-02-17T15:51:51.016Z"
    }
   },
   "outputs": [
    {
     "name": "stdout",
     "output_type": "stream",
     "text": [
      "v is of type int\n"
     ]
    },
    {
     "data": {
      "text/plain": [
       "17 <nil>"
      ]
     },
     "execution_count": 43,
     "metadata": {},
     "output_type": "execute_result"
    }
   ],
   "source": [
    "v := 42\n",
    "fmt.Printf(\"v is of type %T\\n\", v)"
   ]
  },
  {
   "cell_type": "markdown",
   "metadata": {},
   "source": [
    "## Constants\n",
    "\n",
    "定数 ( *constant* )は、 `const` キーワードを使って変数と同じように宣言します。\n",
    "\n",
    "定数は、文字(character)、文字列(string)、boolean、数値(numeric) のみで使えます。\n",
    "なお、定数は `:=` を使って宣言できません。"
   ]
  },
  {
   "cell_type": "code",
   "execution_count": 44,
   "metadata": {
    "ExecuteTime": {
     "end_time": "2018-02-17T15:51:51Z",
     "start_time": "2018-02-17T15:51:51.018Z"
    }
   },
   "outputs": [],
   "source": [
    "import \"fmt\""
   ]
  },
  {
   "cell_type": "code",
   "execution_count": 45,
   "metadata": {
    "ExecuteTime": {
     "end_time": "2018-02-17T15:51:51Z",
     "start_time": "2018-02-17T15:51:51.020Z"
    }
   },
   "outputs": [],
   "source": [
    "const Pi = 3.14"
   ]
  },
  {
   "cell_type": "code",
   "execution_count": 46,
   "metadata": {
    "ExecuteTime": {
     "end_time": "2018-02-17T15:51:51Z",
     "start_time": "2018-02-17T15:51:51.022Z"
    }
   },
   "outputs": [
    {
     "name": "stdout",
     "output_type": "stream",
     "text": [
      "Hello 世界\n",
      "Happy 3.14 Day\n"
     ]
    },
    {
     "data": {
      "text/plain": [
       "15 <nil>"
      ]
     },
     "execution_count": 46,
     "metadata": {},
     "output_type": "execute_result"
    }
   ],
   "source": [
    "const World = \"世界\"\n",
    "fmt.Println(\"Hello\", World)\n",
    "fmt.Println(\"Happy\", Pi, \"Day\")"
   ]
  },
  {
   "cell_type": "code",
   "execution_count": 47,
   "metadata": {
    "ExecuteTime": {
     "end_time": "2018-02-17T15:51:51Z",
     "start_time": "2018-02-17T15:51:51.024Z"
    }
   },
   "outputs": [
    {
     "name": "stdout",
     "output_type": "stream",
     "text": [
      "Go rules? true\n"
     ]
    },
    {
     "data": {
      "text/plain": [
       "15 <nil>"
      ]
     },
     "execution_count": 47,
     "metadata": {},
     "output_type": "execute_result"
    }
   ],
   "source": [
    "const Truth = true\n",
    "fmt.Println(\"Go rules?\", Truth)"
   ]
  },
  {
   "cell_type": "markdown",
   "metadata": {},
   "source": [
    "## Numeric Constants\n",
    "\n",
    "数値の定数は、高精度な **値** ( *values* ) です。\n",
    "型のない定数は、その状況によって必要な型を取ることになります。\n",
    "\n",
    "例で `needInt(Big)` を出力してみてください。\n",
    "\n",
    "( `int` は64-bitの整数を保持できますが。それでは足りないことが時々あります。そういったときにconstを活用しましょう。)"
   ]
  },
  {
   "cell_type": "code",
   "execution_count": 48,
   "metadata": {
    "ExecuteTime": {
     "end_time": "2018-02-17T15:51:51Z",
     "start_time": "2018-02-17T15:51:51.026Z"
    }
   },
   "outputs": [],
   "source": [
    "import \"fmt\""
   ]
  },
  {
   "cell_type": "code",
   "execution_count": 49,
   "metadata": {
    "ExecuteTime": {
     "end_time": "2018-02-17T15:51:51Z",
     "start_time": "2018-02-17T15:51:51.028Z"
    }
   },
   "outputs": [],
   "source": [
    "const (\n",
    "    // Create a huge number by shifting a 1 bit left 100 places.\n",
    "    // In other words, the binary number that is 1 followed by 100 zeros.\n",
    "    Big = 1 << 100\n",
    "    \n",
    "    // Shift it right again 99 places, so we end up with 1 << 1, or 2\n",
    "    Small = Big >> 99\n",
    ")"
   ]
  },
  {
   "cell_type": "code",
   "execution_count": 50,
   "metadata": {
    "ExecuteTime": {
     "end_time": "2018-02-17T15:51:51Z",
     "start_time": "2018-02-17T15:51:51.030Z"
    }
   },
   "outputs": [],
   "source": [
    "func needInt(x int) int {\n",
    "    return x * 10 + 1\n",
    "}\n",
    "\n",
    "func needFloat(x float64) float64 {\n",
    "    return x * 0.1\n",
    "}"
   ]
  },
  {
   "cell_type": "code",
   "execution_count": 51,
   "metadata": {
    "ExecuteTime": {
     "end_time": "2018-02-17T15:51:51Z",
     "start_time": "2018-02-17T15:51:51.032Z"
    }
   },
   "outputs": [
    {
     "name": "stdout",
     "output_type": "stream",
     "text": [
      "1\n",
      "0\n",
      "0\n"
     ]
    },
    {
     "data": {
      "text/plain": [
       "2 <nil>"
      ]
     },
     "execution_count": 51,
     "metadata": {},
     "output_type": "execute_result"
    }
   ],
   "source": [
    "fmt.Println(needInt(Small))\n",
    "fmt.Println(needFloat(Small))\n",
    "fmt.Println(needFloat(Big))"
   ]
  }
 ],
 "metadata": {
  "kernelspec": {
   "display_name": "Go",
   "language": "go",
   "name": "gophernotes"
  },
  "language_info": {
   "codemirror_mode": "",
   "file_extension": ".go",
   "mimetype": "",
   "name": "go",
   "nbconvert_exporter": "",
   "pygments_lexer": "",
   "version": "go1.9.2"
  }
 },
 "nbformat": 4,
 "nbformat_minor": 2
}
